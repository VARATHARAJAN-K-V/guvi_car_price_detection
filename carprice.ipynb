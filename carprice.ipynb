{
  "nbformat": 4,
  "nbformat_minor": 0,
  "metadata": {
    "colab": {
      "provenance": []
    },
    "kernelspec": {
      "name": "python3",
      "display_name": "Python 3"
    },
    "language_info": {
      "name": "python"
    }
  },
  "cells": [
    {
      "cell_type": "code",
      "source": [
        "import numpy as np\n",
        "import pandas as pd\n",
        "from sklearn.model_selection import train_test_split\n",
        "from sklearn.linear_model import LinearRegression\n",
        "from sklearn.ensemble import RandomForestRegressor\n",
        "from sklearn.metrics import mean_absolute_error, r2_score\n",
        "\n",
        "# Function to preprocess data\n",
        "def preprocess_data(data):\n",
        "    # Drop unnecessary columns\n",
        "    df = data.drop(columns=['ID', 'Doors', 'Levy'], errors='ignore')\n",
        "\n",
        "    # Clean and convert 'Engine volume'\n",
        "    df['Engine volume'] = df['Engine volume'].str.replace('Turbo', '', regex=True)\n",
        "    df['Engine volume'] = pd.to_numeric(df['Engine volume'], errors='coerce')\n",
        "\n",
        "    # Clean and convert 'Mileage'\n",
        "    df['Mileage'] = df['Mileage'].str.split(\" \", expand=True)[0]\n",
        "    df['Mileage'] = pd.to_numeric(df['Mileage'], errors='coerce')\n",
        "\n",
        "    # Drop rows with missing values (optional)\n",
        "    df = df.dropna()\n",
        "\n",
        "    # One-Hot Encoding for categorical variables\n",
        "    df = pd.get_dummies(df, columns=[\n",
        "        'Manufacturer', 'Model', 'Category', 'Leather interior',\n",
        "        'Fuel type', 'Gear box type', 'Wheel', 'Color', 'Drive wheels'\n",
        "    ])\n",
        "\n",
        "    return df\n",
        "\n",
        "# Load the data\n",
        "data = pd.read_csv('/content/car_price_prediction.csv')\n",
        "\n",
        "# Preprocess the data\n",
        "df = preprocess_data(data)\n",
        "\n",
        "# Define the target variable and features\n",
        "y = df['Price']\n",
        "x = df.drop('Price', axis=1)\n",
        "\n",
        "# Split the data into training and test sets\n",
        "x_train, x_test, y_train, y_test = train_test_split(x, y, train_size=0.75, random_state=66)\n",
        "\n",
        "# Linear Regression\n",
        "lr = LinearRegression()\n",
        "lr.fit(x_train, y_train)\n",
        "\n",
        "# Predict and evaluate Linear Regression\n",
        "y_pred_lr = lr.predict(x_test)\n",
        "mae_lr = mean_absolute_error(y_test, y_pred_lr)\n",
        "r2_lr = r2_score(y_test, y_pred_lr)\n",
        "\n",
        "print(\"\\n--- Linear Regression Results ---\")\n",
        "print(f\"R² Score: {r2_lr:.2f}\")\n",
        "print(f\"Mean Absolute Error: {mae_lr:.2f}\")\n",
        "\n",
        "# Random Forest Regressor with hyperparameters\n",
        "rf = RandomForestRegressor(n_estimators=200, max_depth=15, random_state=66)\n",
        "rf.fit(x_train, y_train)\n",
        "\n",
        "# Predict and evaluate Random Forest\n",
        "y_pred_rf = rf.predict(x_test)\n",
        "mae_rf = mean_absolute_error(y_test, y_pred_rf)\n",
        "r2_rf = r2_score(y_test, y_pred_rf)\n",
        "\n",
        "print(\"\\n--- Random Forest Results ---\")\n",
        "print(f\"R² Score: {r2_rf:.2f}\")\n",
        "print(f\"Mean Absolute Error: {mae_rf:.2f}\")\n",
        "\n",
        "# Display the shapes of the datasets\n",
        "print(\"\\n--- Dataset Shapes ---\")\n",
        "print(f\"Original Data Shape: {data.shape}\")\n",
        "print(f\"Processed Data Shape: {df.shape}\")\n",
        "print(f\"Features Shape: {x.shape}\")\n",
        "print(f\"Target Shape: {y.shape}\")\n",
        "print(f\"Training Set Shape: {x_train.shape}, {y_train.shape}\")\n",
        "print(f\"Test Set Shape: {x_test.shape}, {y_test.shape}\")\n"
      ],
      "metadata": {
        "colab": {
          "base_uri": "https://localhost:8080/"
        },
        "id": "ambPzeAgcKTt",
        "outputId": "9d7f2670-94b7-40fd-d9ba-fb9bf3209549"
      },
      "execution_count": 6,
      "outputs": [
        {
          "output_type": "stream",
          "name": "stdout",
          "text": [
            "\n",
            "--- Linear Regression Results ---\n",
            "R² Score: -0.00\n",
            "Mean Absolute Error: 14385.73\n",
            "\n",
            "--- Random Forest Results ---\n",
            "R² Score: 0.00\n",
            "Mean Absolute Error: 10652.82\n",
            "\n",
            "--- Dataset Shapes ---\n",
            "Original Data Shape: (19237, 18)\n",
            "Processed Data Shape: (19237, 1706)\n",
            "Features Shape: (19237, 1705)\n",
            "Target Shape: (19237,)\n",
            "Training Set Shape: (14427, 1705), (14427,)\n",
            "Test Set Shape: (4810, 1705), (4810,)\n"
          ]
        }
      ]
    },
    {
      "cell_type": "code",
      "source": [],
      "metadata": {
        "id": "o-eZ-x9Ue5gD"
      },
      "execution_count": null,
      "outputs": []
    }
  ]
}